{
 "cells": [
  {
   "cell_type": "code",
   "execution_count": 1,
   "id": "8397cb99",
   "metadata": {},
   "outputs": [],
   "source": [
    "import numpy as np\n",
    "from scipy.stats import norm\n",
    "import matplotlib.pyplot as plt\n",
    "import pandas as pd"
   ]
  },
  {
   "cell_type": "code",
   "execution_count": 4,
   "id": "68962c80",
   "metadata": {},
   "outputs": [
    {
     "name": "stderr",
     "output_type": "stream",
     "text": [
      "C:\\Users\\Samunr1s\\AppData\\Local\\Temp\\ipykernel_12824\\1072179112.py:1: DtypeWarning: Columns (8,9,10,11,12,13,14,15,17,18,20,21,23,24,25,26,27,28) have mixed types. Specify dtype option on import or set low_memory=False.\n",
      "  DF = pd.read_csv('Data_set.csv')\n"
     ]
    }
   ],
   "source": [
    "DF = pd.read_csv('Data_set.csv')\n",
    "pd.set_option('display.max_columns', None)"
   ]
  },
  {
   "cell_type": "code",
   "execution_count": 7,
   "id": "3fd3a45b",
   "metadata": {},
   "outputs": [],
   "source": [
    "DF = DF.iloc[0:10000]"
   ]
  },
  {
   "cell_type": "code",
   "execution_count": 1,
   "id": "2c93d8a0",
   "metadata": {},
   "outputs": [],
   "source": [
    "def Krank_Nikolson_scheme(S, K, M, N, T, t, r, sigma, B):\n",
    "    tau, dt = np.linspace(sigma ** 2 * T / 2, t, N, retstep=True)\n",
    "    xt, dx = np.linspace(np.log(S / 4 / K), np.log(B / K), M, retstep=True)\n",
    "    dt = abs(dt)\n",
    "    a = pd.DataFrame(np.zeros((N, M)),columns=xt, index = tau)\n",
    "    D = 2 * r / (sigma ** 2)\n",
    "    for i in range(0, M):\n",
    "        if (1 - np.exp( - xt[i])) > 0:\n",
    "            a.iloc[N-1][i] = 1 - np.exp( - xt[i])\n",
    "\n",
    "    sig = sigma ** 2 \n",
    "    gamma = - dt * sig /2 / dx ** 2  +  dt / 4 / dx * (sig + D)\n",
    "    alpha = dt / dx ** 2 * sig + 1\n",
    "    beta =  - (dt * sig /2 / dx ** 2  +  dt / 4 / dx * (sig + D))\n",
    "    for j in range(0, N-1):\n",
    "        b = np.linspace(0,0, M)\n",
    "        for i in range(1,M - 1):\n",
    "            b[i] = a.iloc[N-j-1, i] + 1 / 2 / dx ** 2 * dt * sig * (a.iloc[N-j-1, i - 1] - 2 * a.iloc[N-j-1, i] + a.iloc[N-j-1, i + 1]) + 1 / 4 / dx * dt * (sig + D) * ( - a.iloc[N-j-1, i - 1] + a.iloc[N-j-1, i + 1])\n",
    "        b[1] = a.iloc[N - j - 1, 1] - gamma * a.iloc[N - j - 2, 0] \n",
    "        b[M-2] = a.iloc[N - j - 1, M-2] - beta * a.iloc[N -j - 2, M-1]\n",
    "\n",
    "\n",
    "        A = np.linspace(0,0, M)\n",
    "        B = np.linspace(0,0, M)\n",
    "        A[2] = - beta / alpha\n",
    "        B[2] = b[1] / alpha\n",
    "        for i in range(2, M-2):\n",
    "            A[i+1] = - beta / (gamma * A[i] + alpha)\n",
    "            B[i+1] = (b[i] - gamma * B[i]) / (gamma * A[i] + alpha)\n",
    "\n",
    "        a.iloc[N - j - 2, M-2] = - (B[M-2] - b[M-2] / gamma) / (A[M-2] + alpha / gamma)\n",
    "        for i in range(M-3, 0, -1):\n",
    "            a.iloc[N-j - 2, i] = A[i+1] * a.iloc[N-j-2, i + 1] + B[i+1]\n",
    "    return a, xt, dx, dt"
   ]
  },
  {
   "cell_type": "code",
   "execution_count": null,
   "id": "dce91171",
   "metadata": {},
   "outputs": [],
   "source": [
    "M = 1000\n",
    "N = 1000\n",
    "u, xt, dx, dt = Krank_Nikolson_scheme(S, K, M, N, T, t, r, sigma, B)\n",
    "vt = np.linspace(0, 0, len(u.iloc[0]))\n",
    "vt10 = np.linspace(0, 0, len(u.iloc[0]))\n",
    "vt100 = np.linspace(0, 0, len(u.iloc[0]))\n",
    "vt500 = np.linspace(0, 0, len(u.iloc[0]))\n",
    "vt750 = np.linspace(0, 0, len(u.iloc[0]))\n",
    "vt900 = np.linspace(0, 0, len(u.iloc[0]))\n",
    "st = np.linspace(0, 0, len(u.iloc[0]))\n",
    "for i in range(0, len(u.iloc[0])):\n",
    "    vt[i] = K * np.exp(xt[i]) * u.iloc[0, i]\n",
    "    vt10[i] = K * np.exp(xt[i]) * u.iloc[10, i]\n",
    "    vt100[i] = K * np.exp(xt[i]) * u.iloc[100, i]\n",
    "    vt500[i] = K * np.exp(xt[i]) * u.iloc[500, i]\n",
    "    vt750[i] = K * np.exp(xt[i]) * u.iloc[750, i]\n",
    "    vt900[i] = K * np.exp(xt[i]) * u.iloc[900, i]\n",
    "    st[i] = K * np.exp(xt[i])\n",
    "\n",
    "# c = [value_call_option_BSM(st[i], K, r, sigma, T, t) for i in range(len(xt))]\n",
    "# print('Relative error =', (vt[int(np.round(2 * M / 3))] - c[int(np.round(2 * M / 3))])/c[int(np.round(2 * M / 3))])\n",
    "# print('Analytical error =', dx ** 2 + dt ** 2)\n",
    "plt.plot(st, vt, label='0 moment')\n",
    "plt.plot(st, vt10, label='10 moment')\n",
    "plt.plot(st, vt100, label='100 moment')\n",
    "plt.plot(st, vt500, label='500 moment')\n",
    "plt.plot(st, vt750, label='750 moment')\n",
    "plt.plot(st, vt900, label='900 moment')\n",
    "# plt.plot(st, c, label='BSM')\n",
    "plt.xlabel(\"Value asset\")\n",
    "plt.ylabel(\"Value call option\")\n",
    "plt.grid()\n",
    "plt.legend()\n",
    "plt.show()"
   ]
  },
  {
   "cell_type": "code",
   "execution_count": null,
   "id": "2753ccb7",
   "metadata": {},
   "outputs": [],
   "source": [
    "def Krank_Nikolson_scheme(S, K, M, N, T, t, r, sigma, Bar):\n",
    "    tau, dt = np.linspace(0, T, N, retstep=True)\n",
    "    dt = abs(dt)\n",
    "    xt, dx = np.linspace(0, Bar, M, retstep=True)\n",
    "    a = pd.DataFrame(np.zeros((N, M)),columns=xt, index = tau)\n",
    "    for i in range(0, M):\n",
    "        if (xt[i] - K) > 0:\n",
    "            a.iloc[N-1][i] = xt[i] - K\n",
    "\n",
    "    gamma = np.linspace(0,0,M)\n",
    "    alpha = np.linspace(0,0,M)\n",
    "    beta = np.linspace(0,0,M)\n",
    "    for i in range(0, M):\n",
    "        gamma[i] = (- dt * r * xt[i]) / (4 * dx) + (dt * sigma ** 2 * xt[i] ** 2) / (4 * dx ** 2)\n",
    "        alpha[i] = (1 - dt * r / 2) - (dt * sigma ** 2 * xt[i] ** 2) / (2 * dx ** 2)\n",
    "        beta[i] =  (dt * r * xt[i]) / (4 * dx) + (dt * sigma ** 2 * xt[i] ** 2) / (4 * dx ** 2)\n",
    "        \n",
    "    for j in range(0, N-1):\n",
    "        b = np.linspace(0,0, M)\n",
    "        for i in range(1,M - 1):\n",
    "            b[i] = (1 + dt *r / 2) * a.iloc[N-j-1, i] - 1 / 4 / dx ** 2 * dt * sigma ** 2 * xt[i] ** 2 * (a.iloc[N-j-1, i - 1] - 2 * a.iloc[N-j-1, i] + a.iloc[N-j-1, i + 1]) - 1 / 4 / dx * dt * r * xt[i] * ( - a.iloc[N-j-1, i - 1] + a.iloc[N-j-1, i + 1])\n",
    "        b[1] = a.iloc[N - j - 1, 1] - gamma[1] * a.iloc[N - j - 2, 0] \n",
    "        b[M-2] = a.iloc[N - j - 1, M-2] - beta[M-2] * a.iloc[N -j - 2, M-1]\n",
    "\n",
    "\n",
    "        A = np.linspace(0,0, M)\n",
    "        B = np.linspace(0,0, M)\n",
    "        A[2] = - beta[1] / alpha[1]\n",
    "        B[2] = b[1] / alpha[1]\n",
    "        for i in range(2, M-2):\n",
    "            A[i+1] = - beta[i] / (gamma[i] * A[i] + alpha[i])\n",
    "            B[i+1] = (b[i] - gamma[i] * B[i]) / (gamma[i] * A[i] + alpha[i])\n",
    "\n",
    "        a.iloc[N - j - 2, M-2] = - (B[M-2] - b[M-2] / gamma[M-2]) / (A[M-2] + alpha[M-2] / gamma[M-2])\n",
    "        for i in range(M-3, 0, -1):\n",
    "            a.iloc[N-j - 2, i] = A[i+1] * a.iloc[N-j-2, i + 1] + B[i+1]\n",
    "    return a, xt, dx, dt"
   ]
  },
  {
   "cell_type": "code",
   "execution_count": null,
   "id": "1bafe985",
   "metadata": {},
   "outputs": [],
   "source": [
    "tau, dt = np.linspace(0, T, N, retstep=True)\n",
    "    dt = abs(dt)\n",
    "    xt, dx = np.linspace(0, Bar, M, retstep=True)\n",
    "    a = pd.DataFrame(np.zeros((N, M)),columns=xt, index = tau)\n",
    "    for i in range(0, M):\n",
    "        if (xt[i] - K) > 0:\n",
    "            a.iloc[N-1][i] = xt[i] - K\n",
    "\n",
    "#     gamma = np.linspace(0,0,M)\n",
    "#     alpha = np.linspace(0,0,M)\n",
    "#     beta = np.linspace(0,0,M)\n",
    "#     for i in range(0, M):\n",
    "#         gamma[i] = (- dt * r * xt[i]) / (4 * dx) + (dt * sigma ** 2 * xt[i] ** 2) / (4 * dx ** 2)\n",
    "#         alpha[i] = (1 - dt * r / 2) - (dt * sigma ** 2 * xt[i] ** 2) / (2 * dx ** 2)\n",
    "#         beta[i] =  (dt * r * xt[i]) / (4 * dx) + (dt * sigma ** 2 * xt[i] ** 2) / (4 * dx ** 2)\n",
    "#     j = 0    \n",
    "#     b = np.linspace(0,0, M)\n",
    "#     for i in range(1,M - 1):\n",
    "#         b[i] = (1 + dt *r / 2) * a.iloc[N-j-1, i] - 1 / 4 / dx ** 2 * dt * sigma ** 2 * xt[i] ** 2 * (a.iloc[N-j-1, i - 1] - 2 * a.iloc[N-j-1, i] + a.iloc[N-j-1, i + 1]) - 1 / 4 / dx * dt * r * xt[i] * ( - a.iloc[N-j-1, i - 1] + a.iloc[N-j-1, i + 1])\n",
    "#     b[1] = a.iloc[N - j - 1, 1] - gamma[1] * a.iloc[N - j - 2, 0] \n",
    "#     b[M-2] = a.iloc[N - j - 1, M-2] - beta[M-2] * a.iloc[N -j - 2, M-1]\n",
    "\n",
    "\n",
    "#     A = np.linspace(0,0, M)\n",
    "#     B = np.linspace(0,0, M)\n",
    "#     A[2] = - beta[1] / alpha[1]\n",
    "#     B[2] = b[1] / alpha[1]\n",
    "#     for i in range(2, M-2):\n",
    "#         A[i+1] = - beta[i] / (gamma[i] * A[i] + alpha[i])\n",
    "#         B[i+1] = (b[i] - gamma[i] * B[i]) / (gamma[i] * A[i] + alpha[i])\n",
    "\n",
    "#     a.iloc[N - j - 2, M-2] = - (B[M-2] - b[M-2] / gamma[M-2]) / (A[M-2] + alpha[M-2] / gamma[M-2])\n",
    "#     for i in range(M-3, 0, -1):\n",
    "#         a.iloc[N-j - 2, i] = A[i+1] * a.iloc[N-j-2, i + 1] + B[i+1]"
   ]
  },
  {
   "cell_type": "code",
   "execution_count": null,
   "id": "40c01501",
   "metadata": {},
   "outputs": [],
   "source": [
    "print(- (B[M-2] - b[M-2] / gamma[M-2]) / (A[M-2] + alpha[M-2] / gamma[M-2]))"
   ]
  }
 ],
 "metadata": {
  "kernelspec": {
   "display_name": "Python 3 (ipykernel)",
   "language": "python",
   "name": "python3"
  },
  "language_info": {
   "codemirror_mode": {
    "name": "ipython",
    "version": 3
   },
   "file_extension": ".py",
   "mimetype": "text/x-python",
   "name": "python",
   "nbconvert_exporter": "python",
   "pygments_lexer": "ipython3",
   "version": "3.10.7"
  }
 },
 "nbformat": 4,
 "nbformat_minor": 5
}
